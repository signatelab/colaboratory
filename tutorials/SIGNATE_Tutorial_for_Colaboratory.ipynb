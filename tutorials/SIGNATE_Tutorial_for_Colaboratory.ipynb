{
  "nbformat": 4,
  "nbformat_minor": 0,
  "metadata": {
    "colab": {
      "name": "SIGNATE Tutorial for Google Colaboratory",
      "provenance": [],
      "collapsed_sections": [],
      "toc_visible": true
    },
    "kernelspec": {
      "display_name": "Python 3",
      "name": "python3"
    }
  },
  "cells": [
    {
      "cell_type": "markdown",
      "metadata": {
        "id": "9J7p406abzgl",
        "colab_type": "text"
      },
      "source": [
        "## SIGNATE Tutorial Notebook for Google Colaboraty\n",
        "\n",
        "Google Colaboratoryを利用してSIGNATE ○○コンペティションに参加する際のチュートリアルノートブックです。\n"
      ]
    },
    {
      "cell_type": "markdown",
      "metadata": {
        "id": "wEZ6bB_Q2g4K",
        "colab_type": "text"
      },
      "source": [
        "# 事前準備： SIGNATE CLI\n",
        "\n",
        "[SIGNATE CLIとは](https://pypi.org/project/signate/)"
      ]
    },
    {
      "cell_type": "markdown",
      "metadata": {
        "id": "8iU2gnJFItM1",
        "colab_type": "text"
      },
      "source": [
        "## Installation\n",
        "\n",
        "SIGNATEコンペティションのデータセットのダウンロードやサブミットする際に便利なCLIツールをインストールします。"
      ]
    },
    {
      "cell_type": "code",
      "metadata": {
        "id": "HNxjTLuKbyvD",
        "colab_type": "code",
        "colab": {}
      },
      "source": [
        "! pip install signate"
      ],
      "execution_count": 0,
      "outputs": []
    },
    {
      "cell_type": "markdown",
      "metadata": {
        "id": "Lv3582kIYN5d",
        "colab_type": "text"
      },
      "source": [
        "## Configuration \n",
        "\n",
        "SIGNATE CLIを使うためには、最初にTokenファイルが必要です。\n",
        "\n",
        "[SIGNATEアカウント設定ページ](https://signate.jp/account_settings) のおAPI Tokenファイル（signate.json）を発行し、ローカルPCにダウンロードします。"
      ]
    },
    {
      "cell_type": "markdown",
      "metadata": {
        "id": "9wi5kfGdhK0R",
        "colab_type": "text"
      },
      "source": [
        "### Upload token file\n",
        "\n",
        "ローカルPCにダウンロードしたTokenファイルをGoogle Colaboratoryにアップロードします。"
      ]
    },
    {
      "cell_type": "code",
      "metadata": {
        "id": "mwdQ1INEZKkb",
        "colab_type": "code",
        "colab": {}
      },
      "source": [
        "from google.colab import files\n",
        "\n",
        "uploaded = files.upload()\n",
        "\n",
        "for fn in uploaded.keys():\n",
        "  print('User uploaded file \"{name}\" with length {length} bytes'.format(\n",
        "      name=fn, length=len(uploaded[fn])))"
      ],
      "execution_count": 0,
      "outputs": []
    },
    {
      "cell_type": "markdown",
      "metadata": {
        "id": "yv2XIwi5hQ_g",
        "colab_type": "text"
      },
      "source": [
        "### Move token file\n",
        "\n",
        "TokenファイルをSIGNATE CLIが認識できるように `$HOME/.signate/signate.json` に移動します。"
      ]
    },
    {
      "cell_type": "code",
      "metadata": {
        "id": "cpzj2nw6zjQy",
        "colab_type": "code",
        "colab": {}
      },
      "source": [
        "! mkdir -p /root/.signate && mv signate.json /root/.signate/"
      ],
      "execution_count": 0,
      "outputs": []
    },
    {
      "cell_type": "markdown",
      "metadata": {
        "id": "PtG1lXtM38uV",
        "colab_type": "text"
      },
      "source": [
        "## Check command\n",
        "\n",
        "ヘルプコマンド実行"
      ]
    },
    {
      "cell_type": "code",
      "metadata": {
        "id": "W1T39yJM3vIi",
        "colab_type": "code",
        "colab": {}
      },
      "source": [
        "! signate --help"
      ],
      "execution_count": 0,
      "outputs": []
    },
    {
      "cell_type": "markdown",
      "metadata": {
        "id": "emMmv3ftcH5v",
        "colab_type": "text"
      },
      "source": [
        "# コンペ参加"
      ]
    },
    {
      "cell_type": "markdown",
      "metadata": {
        "id": "9t87hrWXEQtL",
        "colab_type": "text"
      },
      "source": [
        "## 開催中のコンペ一覧"
      ]
    },
    {
      "cell_type": "code",
      "metadata": {
        "id": "LEexvKKCFbJs",
        "colab_type": "code",
        "colab": {}
      },
      "source": [
        "! signate list"
      ],
      "execution_count": 0,
      "outputs": []
    },
    {
      "cell_type": "markdown",
      "metadata": {
        "id": "p_gD2F0gFPTA",
        "colab_type": "text"
      },
      "source": [
        "## データセットダウンロード"
      ]
    },
    {
      "cell_type": "markdown",
      "metadata": {
        "id": "hYutWuyGHlYk",
        "colab_type": "text"
      },
      "source": [
        "### ファイル一覧取得"
      ]
    },
    {
      "cell_type": "code",
      "metadata": {
        "id": "xqrc5C-IaA5J",
        "colab_type": "code",
        "outputId": "d98855a9-b468-4d98-d66e-86f623fed407",
        "colab": {
          "base_uri": "https://localhost:8080/",
          "height": 102
        }
      },
      "source": [
        "! signate files -c 102"
      ],
      "execution_count": 19,
      "outputs": []
    },
    {
      "cell_type": "markdown",
      "metadata": {
        "id": "DMr7ZhZtHsTs",
        "colab_type": "text"
      },
      "source": [
        "### 一括ファイルダウンロード\n",
        "\n",
        "`competitonId: 102` の一括ダウンロード"
      ]
    },
    {
      "cell_type": "code",
      "metadata": {
        "id": "JHjClf_qC8h7",
        "colab_type": "code",
        "colab": {}
      },
      "source": [
        "! signate download -c 102"
      ],
      "execution_count": 0,
      "outputs": []
    },
    {
      "cell_type": "code",
      "metadata": {
        "id": "wMxzR6Z5DgVO",
        "colab_type": "code",
        "colab": {}
      },
      "source": [
        "! ls -al"
      ],
      "execution_count": 0,
      "outputs": []
    },
    {
      "cell_type": "markdown",
      "metadata": {
        "id": "0RWwkNtYI1mX",
        "colab_type": "text"
      },
      "source": [
        "### 個別ファイルダウンロード\n",
        "\n",
        "`competitionId: 102, fileId: 272` train.tsv ダウンロードする場合"
      ]
    },
    {
      "cell_type": "code",
      "metadata": {
        "id": "EHgU8YQJI6pB",
        "colab_type": "code",
        "colab": {}
      },
      "source": [
        "! signate download -c 102 -f 272"
      ],
      "execution_count": 0,
      "outputs": []
    },
    {
      "cell_type": "markdown",
      "metadata": {
        "id": "TlBUnRZWK_Fg",
        "colab_type": "text"
      },
      "source": [
        "## データ分析"
      ]
    },
    {
      "cell_type": "code",
      "metadata": {
        "id": "wkXE6NrfN37F",
        "colab_type": "code",
        "colab": {}
      },
      "source": [
        "# python バージョン確認\n",
        "! python -V"
      ],
      "execution_count": 0,
      "outputs": []
    },
    {
      "cell_type": "code",
      "metadata": {
        "id": "45FDqVjTNC0y",
        "colab_type": "code",
        "colab": {}
      },
      "source": [
        "# インストール済みライブラリー確認\n",
        "! pip freeze"
      ],
      "execution_count": 0,
      "outputs": []
    },
    {
      "cell_type": "code",
      "metadata": {
        "id": "c86YekJLLKfv",
        "colab_type": "code",
        "colab": {}
      },
      "source": [
        "# ここから分析コードを書く"
      ],
      "execution_count": 0,
      "outputs": []
    },
    {
      "cell_type": "markdown",
      "metadata": {
        "id": "OVf2vWKBIOtK",
        "colab_type": "text"
      },
      "source": [
        "## 分析結果サブミット\n",
        "\n",
        "- サブミットの結果は評価が終わるとメールにて通知される\n",
        "- `competitionId: 102` にメモを添えてサブミットする場合"
      ]
    },
    {
      "cell_type": "code",
      "metadata": {
        "id": "BSRtrc72F7ll",
        "colab_type": "code",
        "colab": {}
      },
      "source": [
        "! signate submit -c 102 -n \"submit from Google Colaboratoy\" sample_submit.tsv"
      ],
      "execution_count": 0,
      "outputs": []
    },
    {
      "cell_type": "markdown",
      "metadata": {
        "id": "8gf758OZLs0n",
        "colab_type": "text"
      },
      "source": [
        "# その他のリソース\n",
        "\n",
        "- [SIGNATE コンペ一覧](https://signate.jp/competitions)\n",
        "- [SIGNATE CLIの概要](https://pypi.org/project/signate)\n",
        "- [SIGNATEアカウント設定ページ](https://signate.jp/account_settings)\n",
        "- [Colaboratory の概要](/notebooks/basic_features_overview.ipynb)\n",
        "- [markdown のガイド](/notebooks/markdown_guide.ipynb)\n",
        "- [ライブラリのインポートと依存関係のインストール](/notebooks/snippets/importing_libraries.ipynb)\n",
        " [Colab の TensorFlow 2](/notebooks/tensorflow_version.ipynb)"
      ]
    }
  ]
}